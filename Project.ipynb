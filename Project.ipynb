{
 "cells": [
  {
   "cell_type": "code",
   "execution_count": 1,
   "id": "d97fab78",
   "metadata": {},
   "outputs": [],
   "source": [
    "import os\n",
    "import io\n",
    "\n",
    "from google.cloud import bigquery\n",
    "from google.cloud import storage\n",
    "\n",
    "import pandas as pd\n",
    "import numpy as np\n",
    "import matplotlib.pyplot as plt\n",
    "from datetime import datetime\n",
    "\n",
    "from sklearn.linear_model import LinearRegression\n",
    "from sklearn.model_selection import train_test_split\n",
    "import pickle"
   ]
  },
  {
   "cell_type": "code",
   "execution_count": 2,
   "id": "d0856ff8",
   "metadata": {},
   "outputs": [],
   "source": [
    "def create_dataset(project_id, dataset_id):\n",
    "    dataset_ref = f\"{project_id}.{dataset_id}\"\n",
    "    dataset = bigquery.Dataset(dataset_ref)\n",
    "    dataset.location = \"US\"  \n",
    "    dataset = client.create_dataset(dataset, exists_ok=True)\n",
    "    print(f\"Dataset {dataset_id} created successfully in project {project_id}.\")"
   ]
  },
  {
   "cell_type": "code",
   "execution_count": 3,
   "id": "08f50772",
   "metadata": {},
   "outputs": [],
   "source": [
    "def drop_table_if_exists(dataset_id, table_id):\n",
    "    table_ref = f\"{project_id}.{dataset_id}.{table_id}\"\n",
    "    try:\n",
    "        client.delete_table(table_ref)\n",
    "    except Exception as e:\n",
    "        pass"
   ]
  },
  {
   "cell_type": "code",
   "execution_count": 4,
   "id": "40231fcb",
   "metadata": {},
   "outputs": [],
   "source": [
    "def create_table(dataset_id, table_id, schema):\n",
    "    drop_table_if_exists(dataset_id, table_id)\n",
    "    table_ref = f\"{project_id}.{dataset_id}.{table_id}\"\n",
    "    table = bigquery.Table(table_ref, schema=schema)\n",
    "    table = client.create_table(table, exists_ok=True)\n",
    "    print(f\"Table {table_id} created successfully in dataset {dataset_id}.\")"
   ]
  },
  {
   "cell_type": "code",
   "execution_count": 5,
   "id": "26f9fbe4",
   "metadata": {},
   "outputs": [],
   "source": [
    "def upload_to_bigquery(project_id, dataset_id, table_id, file_path, schema):\n",
    "    table_ref = f\"{project_id}.{dataset_id}.{table_id}\"\n",
    "    job_config = bigquery.LoadJobConfig(schema=schema,source_format=bigquery.SourceFormat.CSV,skip_leading_rows=1, write_disposition=bigquery.WriteDisposition.WRITE_TRUNCATE, )\n",
    "    with open(file_path, \"rb\") as file:\n",
    "        load_job = client.load_table_from_file(file, table_ref, job_config=job_config)\n",
    "    load_job.result()\n",
    "    print(f\"Data uploaded successfully to {table_ref}.\")"
   ]
  },
  {
   "cell_type": "code",
   "execution_count": 6,
   "id": "7c8badd9",
   "metadata": {},
   "outputs": [],
   "source": [
    "def executeSQLSelect(query):\n",
    "    results = client.query(query).result()\n",
    "    data = [dict(row.items()) for row in results]\n",
    "    dataframe = pd.DataFrame(data)\n",
    "    print(dataframe)"
   ]
  },
  {
   "cell_type": "code",
   "execution_count": 7,
   "id": "04354b46",
   "metadata": {},
   "outputs": [],
   "source": [
    "def create_gcs_bucket(bucket_name, location=\"US\"):\n",
    "    try:\n",
    "        client = storage.Client()\n",
    "        bucket = client.bucket(bucket_name)\n",
    "        if bucket.exists():\n",
    "            print(f\"Bucket '{bucket_name}' already exists. Deleting it.\")\n",
    "            bucket.delete(force=True)\n",
    "            print(f\"Bucket '{bucket_name}' deleted.\")\n",
    "        new_bucket = client.create_bucket(bucket, location=location)\n",
    "        print(f\"Bucket {new_bucket.name} created successfully in location {new_bucket.location}.\")\n",
    "    except Exception as e:\n",
    "        print(f\"Error creating bucket: {e}\")"
   ]
  },
  {
   "cell_type": "code",
   "execution_count": 8,
   "id": "b621b041",
   "metadata": {},
   "outputs": [],
   "source": [
    "def upload_to_gcs(bucket_name, file_path, destination_blob_name):\n",
    "    bucket = client.bucket(bucket_name)\n",
    "    blob = bucket.blob(destination_blob_name)\n",
    "    if blob.exists():\n",
    "        print(f\"File {destination_blob_name} already exists in bucket {bucket_name}. Deleting it.\")\n",
    "        blob.delete()\n",
    "        print(f\"File {destination_blob_name} deleted.\")\n",
    "    blob.upload_from_filename(file_path)\n",
    "    print(f\"File {file_path} uploaded to {bucket_name}/{destination_blob_name}.\")"
   ]
  },
  {
   "cell_type": "code",
   "execution_count": 9,
   "id": "9e6f1e84",
   "metadata": {},
   "outputs": [],
   "source": [
    "def read_data_from_gcs(bucket_name, blob_name):\n",
    "    client = storage.Client()\n",
    "    bucket = client.bucket(bucket_name)\n",
    "    blob = bucket.blob(blob_name)\n",
    "    data_string = blob.download_as_text()\n",
    "    data = pd.read_csv(io.StringIO(data_string))\n",
    "    print(f\"Data read successfully from {bucket_name}/{blob}.\")\n",
    "    return data"
   ]
  },
  {
   "cell_type": "code",
   "execution_count": 10,
   "id": "a3faae0d",
   "metadata": {},
   "outputs": [],
   "source": [
    "def save_model_to_gcs(model, bucket_name, model_file_name):\n",
    "    with open(model_file_name, 'wb') as model_file:\n",
    "        pickle.dump(model, model_file)\n",
    "    client = storage.Client()\n",
    "    bucket = client.bucket(bucket_name)\n",
    "    blob = bucket.blob(model_file_name)\n",
    "    blob.upload_from_filename(model_file_name)\n",
    "    print(f\"Model saved to GCS bucket {bucket_name} as {model_file_name}.\")"
   ]
  },
  {
   "cell_type": "code",
   "execution_count": 11,
   "id": "569ee845",
   "metadata": {},
   "outputs": [],
   "source": [
    "\n",
    "restaurants_schema = [\n",
    "    bigquery.SchemaField(\"RestaurantID\", \"STRING\", mode=\"REQUIRED\"),\n",
    "    bigquery.SchemaField(\"Name\", \"STRING\", mode=\"REQUIRED\"),\n",
    "    bigquery.SchemaField(\"Location\", \"STRING\", mode=\"NULLABLE\"),\n",
    "    bigquery.SchemaField(\"CuisineType\", \"STRING\", mode=\"NULLABLE\"),\n",
    "    bigquery.SchemaField(\"Rating\", \"FLOAT\", mode=\"NULLABLE\"),\n",
    "]\n",
    "\n",
    "customers_schema = [\n",
    "    bigquery.SchemaField(\"CustomerID\", \"STRING\", mode=\"REQUIRED\"),\n",
    "    bigquery.SchemaField(\"Name\", \"STRING\", mode=\"REQUIRED\"),\n",
    "    bigquery.SchemaField(\"Email\", \"STRING\", mode=\"NULLABLE\"),\n",
    "    bigquery.SchemaField(\"Phone\", \"STRING\", mode=\"NULLABLE\"),\n",
    "    bigquery.SchemaField(\"Address\", \"STRING\", mode=\"NULLABLE\"),\n",
    "]\n",
    "\n",
    "orders_schema = [\n",
    "    bigquery.SchemaField(\"OrderID\", \"STRING\", mode=\"REQUIRED\"),\n",
    "    bigquery.SchemaField(\"CustomerID\", \"STRING\", mode=\"REQUIRED\"),\n",
    "    bigquery.SchemaField(\"RestaurantID\", \"STRING\", mode=\"REQUIRED\"),\n",
    "    bigquery.SchemaField(\"OrderDate\", \"DATE\", mode=\"NULLABLE\"),\n",
    "    bigquery.SchemaField(\"OrderStatus\", \"STRING\", mode=\"NULLABLE\"),\n",
    "    bigquery.SchemaField(\"OrderAmount\", \"FLOAT\", mode=\"NULLABLE\"),\n",
    "]"
   ]
  },
  {
   "cell_type": "code",
   "execution_count": 12,
   "id": "f396779f",
   "metadata": {},
   "outputs": [],
   "source": [
    "os.environ[\"GOOGLE_APPLICATION_CREDENTIALS\"] = \"JSON_Key/g23ai2059-big-data-management-080dca6ac18e.json\"\n",
    "project_id = \"g23ai2059-big-data-management\"\n",
    "dataset_id = \"food_delivery_dataset\"\n",
    "bucket_name = \"food-delivery-data-storage\" "
   ]
  },
  {
   "cell_type": "code",
   "execution_count": 13,
   "id": "201cbfa3",
   "metadata": {},
   "outputs": [
    {
     "name": "stdout",
     "output_type": "stream",
     "text": [
      "Connected to BigQuery. Project ID: g23ai2059-big-data-management\n"
     ]
    }
   ],
   "source": [
    "client = bigquery.Client()\n",
    "print(\"Connected to BigQuery. Project ID:\", client.project)"
   ]
  },
  {
   "cell_type": "code",
   "execution_count": 14,
   "id": "aaafeee3",
   "metadata": {},
   "outputs": [
    {
     "name": "stdout",
     "output_type": "stream",
     "text": [
      "Dataset food_delivery_dataset created successfully in project g23ai2059-big-data-management.\n",
      "Table Restaurants created successfully in dataset food_delivery_dataset.\n",
      "Table Customers created successfully in dataset food_delivery_dataset.\n",
      "Table Orders created successfully in dataset food_delivery_dataset.\n"
     ]
    }
   ],
   "source": [
    "create_dataset(project_id, dataset_id)\n",
    "create_table(dataset_id, \"Restaurants\", restaurants_schema)\n",
    "create_table(dataset_id, \"Customers\", customers_schema)\n",
    "create_table(dataset_id, \"Orders\", orders_schema)"
   ]
  },
  {
   "cell_type": "code",
   "execution_count": 15,
   "id": "bafe2fc0",
   "metadata": {},
   "outputs": [
    {
     "name": "stdout",
     "output_type": "stream",
     "text": [
      "Data uploaded successfully to g23ai2059-big-data-management.food_delivery_dataset.Customers.\n",
      "Data uploaded successfully to g23ai2059-big-data-management.food_delivery_dataset.Restaurants.\n",
      "Data uploaded successfully to g23ai2059-big-data-management.food_delivery_dataset.Orders.\n"
     ]
    }
   ],
   "source": [
    "upload_to_bigquery(project_id,dataset_id, \"Customers\", \"Datasets/Customers.csv\",customers_schema)\n",
    "upload_to_bigquery(project_id,dataset_id, \"Restaurants\", \"Datasets/Restaurants.csv\",restaurants_schema)\n",
    "upload_to_bigquery(project_id,dataset_id, \"Orders\", \"Datasets/Orders.csv\",orders_schema)"
   ]
  },
  {
   "cell_type": "code",
   "execution_count": 16,
   "id": "608d86b6",
   "metadata": {},
   "outputs": [
    {
     "name": "stdout",
     "output_type": "stream",
     "text": [
      "    OrderID CustomerID RestaurantID   OrderDate OrderStatus  OrderAmount\n",
      "0  43dc5b59   77fa426a     5f7eda1d  2024-01-03     Pending   378.028572\n",
      "1  09d8a7e8   3e3126f9     9233a57b  2024-11-16     Pending  3527.272999\n",
      "2  1762770d   7e1694ed     56bfc8e5  2024-11-01     Pending  3387.277801\n",
      "3  63fa2742   fc8d7a74     53b56a12  2024-02-02     Pending   651.649166\n",
      "4  2b92bfb0   8e0a8091     44ef930b  2023-12-25     Pending   270.569377\n"
     ]
    }
   ],
   "source": [
    "#Sample Data\n",
    "query = f\"SELECT * FROM `{project_id}.{dataset_id}.Orders` LIMIT 5\"\n",
    "executeSQLSelect(query)"
   ]
  },
  {
   "cell_type": "code",
   "execution_count": 17,
   "id": "255aad84",
   "metadata": {},
   "outputs": [
    {
     "name": "stdout",
     "output_type": "stream",
     "text": [
      "   count        table\n",
      "0   1000  Restaurants\n",
      "1   1000       Orders\n",
      "2   1000    Customers\n"
     ]
    }
   ],
   "source": [
    "query_cnt = f\"\"\"\n",
    "SELECT COUNT(*) count,'Orders' table FROM `{project_id}.{dataset_id}.Orders`\n",
    "union all\n",
    "SELECT COUNT(*) count,'Customers' table FROM `{project_id}.{dataset_id}.Customers`\n",
    "union all\n",
    "SELECT COUNT(*) count,'Restaurants' table FROM `{project_id}.{dataset_id}.Restaurants`\n",
    "\"\"\"\n",
    "executeSQLSelect(query_cnt)"
   ]
  },
  {
   "cell_type": "code",
   "execution_count": 18,
   "id": "0fb2251a",
   "metadata": {},
   "outputs": [
    {
     "name": "stdout",
     "output_type": "stream",
     "text": [
      "  RestaurantID  TotalOrders\n",
      "0     002e8a39            6\n",
      "1     a91ed682            5\n",
      "2     f2c3ee98            5\n",
      "3     efa7bf09            5\n",
      "4     8fbb95f8            5\n"
     ]
    }
   ],
   "source": [
    "q1 = f\"\"\"\n",
    "SELECT RestaurantID, COUNT(*) as TotalOrders\n",
    "FROM `{project_id}.{dataset_id}.Orders`\n",
    "GROUP BY RestaurantID\n",
    "ORDER BY 2 DESC\n",
    "LIMIT 5;\n",
    "\"\"\"\n",
    "executeSQLSelect(q1)\n"
   ]
  },
  {
   "cell_type": "code",
   "execution_count": 19,
   "id": "e291a684",
   "metadata": {},
   "outputs": [
    {
     "name": "stdout",
     "output_type": "stream",
     "text": [
      "Connected to Google Cloud Storage. Project ID: g23ai2059-big-data-management\n"
     ]
    }
   ],
   "source": [
    "client = storage.Client()  \n",
    "print(\"Connected to Google Cloud Storage. Project ID:\", client.project)"
   ]
  },
  {
   "cell_type": "code",
   "execution_count": 20,
   "id": "8eef14c6",
   "metadata": {},
   "outputs": [
    {
     "name": "stdout",
     "output_type": "stream",
     "text": [
      "Bucket 'food-delivery-data-storage' already exists. Deleting it.\n",
      "Bucket 'food-delivery-data-storage' deleted.\n",
      "Bucket food-delivery-data-storage created successfully in location US.\n",
      "File Datasets/Restaurants.csv uploaded to food-delivery-data-storage/Restaurants.csv.\n",
      "File Datasets/Orders.csv uploaded to food-delivery-data-storage/Orders.csv.\n",
      "File Datasets/Customers.csv uploaded to food-delivery-data-storage/Customers.csv.\n"
     ]
    }
   ],
   "source": [
    "create_gcs_bucket(bucket_name)\n",
    "upload_to_gcs(bucket_name, file_path= \"Datasets/Restaurants.csv\", destination_blob_name=\"Restaurants.csv\" )\n",
    "upload_to_gcs(bucket_name, file_path= \"Datasets/Orders.csv\", destination_blob_name=\"Orders.csv\" )\n",
    "upload_to_gcs(bucket_name, file_path= \"Datasets/Customers.csv\", destination_blob_name=\"Customers.csv\" )"
   ]
  },
  {
   "cell_type": "code",
   "execution_count": 21,
   "id": "0d2bc0ce",
   "metadata": {},
   "outputs": [
    {
     "name": "stdout",
     "output_type": "stream",
     "text": [
      "Data read successfully from food-delivery-data-storage/<Blob: food-delivery-data-storage, Orders.csv, 1733671540337003>.\n"
     ]
    }
   ],
   "source": [
    "data = read_data_from_gcs(bucket_name,\"Orders.csv\")"
   ]
  },
  {
   "cell_type": "code",
   "execution_count": 22,
   "id": "b09e75a9",
   "metadata": {},
   "outputs": [
    {
     "data": {
      "image/png": "[encoded data removed]",
      "text/plain": [
       "<Figure size 600x400 with 1 Axes>"
      ]
     },
     "metadata": {},
     "output_type": "display_data"
    }
   ],
   "source": [
    "data['OrderDate'] = pd.to_datetime(data['OrderDate'])\n",
    "data['DaysSinceStart'] = (data['OrderDate'] - data['OrderDate'].min()).dt.days\n",
    "X = data[['DaysSinceStart']]\n",
    "y = data['OrderAmount']\n",
    "X_train, X_test, y_train, y_test = train_test_split(X, y, test_size=0.2, random_state=42)\n",
    "model = LinearRegression()\n",
    "model.fit(X_train, y_train)\n",
    "predictions = model.predict(X_test)\n",
    "data['PredictedOrderAmount'] = model.predict(data[['DaysSinceStart']])\n",
    "\n",
    "plt.figure(figsize=(6, 4))\n",
    "plt.scatter(data['DaysSinceStart'], data['OrderAmount'], color='blue', label='Actual Data')\n",
    "plt.plot(data['DaysSinceStart'], data['PredictedOrderAmount'], color='red', label='Regression Line')\n",
    "plt.xlabel(\"Days Since Start\")\n",
    "plt.ylabel(\"Order Amount\")\n",
    "plt.title(\"Linear Regression: Order Amount vs. Days Since Start\")\n",
    "plt.legend()\n",
    "plt.grid(True)\n",
    "plt.show()\n"
   ]
  },
  {
   "cell_type": "code",
   "execution_count": 23,
   "id": "5c7d7922",
   "metadata": {},
   "outputs": [
    {
     "name": "stdout",
     "output_type": "stream",
     "text": [
      "Model saved to GCS bucket food-delivery-data-storage as linear_regression_model.pkl.\n"
     ]
    }
   ],
   "source": [
    "model_file_name = \"linear_regression_model.pkl\"\n",
    "save_model_to_gcs(model, bucket_name, model_file_name)"
   ]
  }
 ],
 "metadata": {
  "kernelspec": {
   "display_name": "Python 3 (ipykernel)",
   "language": "python",
   "name": "python3"
  },
  "language_info": {
   "codemirror_mode": {
    "name": "ipython",
    "version": 3
   },
   "file_extension": ".py",
   "mimetype": "text/x-python",
   "name": "python",
   "nbconvert_exporter": "python",
   "pygments_lexer": "ipython3",
   "version": "3.11.5"
  }
 },
 "nbformat": 4,
 "nbformat_minor": 5
}
